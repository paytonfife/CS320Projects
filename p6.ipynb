{
 "cells": [
  {
   "cell_type": "code",
   "execution_count": 1,
   "id": "7d7a0cb2",
   "metadata": {},
   "outputs": [],
   "source": [
    "# project: p6\n",
    "# submitter: pjfife\n",
    "# partner: none\n",
    "# hours: 9"
   ]
  },
  {
   "cell_type": "code",
   "execution_count": 2,
   "id": "f4d4769d",
   "metadata": {},
   "outputs": [],
   "source": [
    "import geopandas as gpd\n",
    "import pandas as pd\n",
    "import sqlite3\n",
    "from sklearn.model_selection import train_test_split, cross_val_score\n",
    "from sklearn.linear_model import LinearRegression\n",
    "from sklearn.preprocessing import PolynomialFeatures\n",
    "from sklearn.pipeline import Pipeline\n",
    "import numpy as np\n",
    "import rasterio\n",
    "from rasterio.mask import mask\n",
    "from matplotlib.colors import ListedColormap\n",
    "import matplotlib.pyplot as plt"
   ]
  },
  {
   "cell_type": "markdown",
   "id": "c680134e",
   "metadata": {},
   "source": [
    "# Part 1: Predicting Population using Area\n",
    "## Q1: How many counties are in Wisconsin?"
   ]
  },
  {
   "cell_type": "code",
   "execution_count": 3,
   "id": "1ddaaa86",
   "metadata": {},
   "outputs": [
    {
     "data": {
      "text/plain": [
       "72"
      ]
     },
     "execution_count": 3,
     "metadata": {},
     "output_type": "execute_result"
    }
   ],
   "source": [
    "#Q1\n",
    "df = gpd.read_file(\"counties.geojson\")\n",
    "len(df)"
   ]
  },
  {
   "cell_type": "markdown",
   "id": "9452ab9c",
   "metadata": {},
   "source": [
    "## Q2: What is the population of each county in WI?"
   ]
  },
  {
   "cell_type": "code",
   "execution_count": 4,
   "id": "324e1ea0",
   "metadata": {},
   "outputs": [
    {
     "data": {
      "image/png": "[encoded data removed]",
      "text/plain": [
       "<Figure size 432x288 with 2 Axes>"
      ]
     },
     "metadata": {
      "needs_background": "light"
     },
     "output_type": "display_data"
    }
   ],
   "source": [
    "#Q2\n",
    "ax = df.plot(column = 'POP100', legend = True)"
   ]
  },
  {
   "cell_type": "markdown",
   "id": "651f02e5",
   "metadata": {},
   "source": [
    "## Q3: What are the counties in the test dataset?"
   ]
  },
  {
   "cell_type": "code",
   "execution_count": 5,
   "id": "fde95723",
   "metadata": {},
   "outputs": [
    {
     "data": {
      "text/plain": [
       "['Kewaunee County',\n",
       " 'Calumet County',\n",
       " 'Adams County',\n",
       " 'Eau Claire County',\n",
       " 'Milwaukee County',\n",
       " 'Ashland County',\n",
       " 'Wood County',\n",
       " 'Dodge County',\n",
       " 'Sauk County',\n",
       " 'Clark County',\n",
       " 'Pepin County',\n",
       " 'Taylor County',\n",
       " 'Iron County',\n",
       " 'Outagamie County',\n",
       " 'Florence County',\n",
       " 'Oneida County',\n",
       " 'Pierce County',\n",
       " 'Grant County']"
      ]
     },
     "execution_count": 5,
     "metadata": {},
     "output_type": "execute_result"
    }
   ],
   "source": [
    "#Q3\n",
    "conn = sqlite3.connect(\"counties_tracts.db\")\n",
    "df['AREALAND'] = pd.read_sql(\"SELECT * FROM counties\", conn)['AREALAND']\n",
    "train, test = train_test_split(df, random_state = 320, test_size = 0.25)\n",
    "\n",
    "list(test['NAME'])"
   ]
  },
  {
   "cell_type": "markdown",
   "id": "80c543ef",
   "metadata": {},
   "source": [
    "## Q4: How much variance in the POP100 can a LinearRegression model explain based only on AREALAND?"
   ]
  },
  {
   "cell_type": "code",
   "execution_count": 6,
   "id": "8a09b7aa",
   "metadata": {},
   "outputs": [
    {
     "data": {
      "text/plain": [
       "0.022002661530554857"
      ]
     },
     "execution_count": 6,
     "metadata": {},
     "output_type": "execute_result"
    }
   ],
   "source": [
    "#Q4\n",
    "model = LinearRegression()\n",
    "model.fit(train[[\"AREALAND\"]], train[\"POP100\"])\n",
    "model.score(test[[\"AREALAND\"]], test[\"POP100\"])"
   ]
  },
  {
   "cell_type": "markdown",
   "id": "1e0cae44",
   "metadata": {},
   "source": [
    "## Q5: What is the predicted population of a county with 500 square miles of area, according to the model?\n"
   ]
  },
  {
   "cell_type": "code",
   "execution_count": 7,
   "id": "f7a7af1f",
   "metadata": {},
   "outputs": [
    {
     "data": {
      "text/plain": [
       "82032.53073541154"
      ]
     },
     "execution_count": 7,
     "metadata": {},
     "output_type": "execute_result"
    }
   ],
   "source": [
    "#Q5\n",
    "km2 = 500 * 2.59 * 1e6\n",
    "predicted_df = pd.DataFrame({\"AREALAND\": [km2]} )\n",
    "predicted_df['predictedPOP'] = model.predict(predicted_df)\n",
    "predicted_df['predictedPOP'][0]"
   ]
  },
  {
   "cell_type": "markdown",
   "id": "d2289c2d",
   "metadata": {},
   "source": [
    "# Part 2: Predicting Population using Housing Units\n",
    "## Q6: What are the counties in the test dataset?"
   ]
  },
  {
   "cell_type": "code",
   "execution_count": 8,
   "id": "d64e77a2",
   "metadata": {},
   "outputs": [
    {
     "data": {
      "text/plain": [
       "['Kewaunee County',\n",
       " 'Calumet County',\n",
       " 'Adams County',\n",
       " 'Eau Claire County',\n",
       " 'Milwaukee County',\n",
       " 'Ashland County',\n",
       " 'Wood County',\n",
       " 'Dodge County',\n",
       " 'Sauk County',\n",
       " 'Clark County',\n",
       " 'Pepin County',\n",
       " 'Taylor County',\n",
       " 'Iron County',\n",
       " 'Outagamie County',\n",
       " 'Florence County',\n",
       " 'Oneida County',\n",
       " 'Pierce County',\n",
       " 'Grant County']"
      ]
     },
     "execution_count": 8,
     "metadata": {},
     "output_type": "execute_result"
    }
   ],
   "source": [
    "#Q6\n",
    "hu100_df = pd.read_sql(\"\"\"\n",
    "SELECT counties.NAME, sum(HU100) as HU100\n",
    "FROM tracts\n",
    "INNER JOIN counties ON tracts.COUNTY = counties.COUNTY\n",
    "GROUP BY counties.NAME\n",
    "\"\"\", conn)\n",
    "\n",
    "df = pd.merge(df, hu100_df, how = 'inner', on = 'NAME')\n",
    "train, test = train_test_split(df, random_state = 320, test_size = 0.25)\n",
    "\n",
    "list(test['NAME'])"
   ]
  },
  {
   "cell_type": "markdown",
   "id": "130519be",
   "metadata": {},
   "source": [
    "## Q7: What are the HU100 values for the counties in the train dataset?\n"
   ]
  },
  {
   "cell_type": "code",
   "execution_count": 9,
   "id": "df098f3e",
   "metadata": {
    "scrolled": true
   },
   "outputs": [
    {
     "data": {
      "text/plain": [
       "{'Walworth County': 51531,\n",
       " 'Marquette County': 9896,\n",
       " 'Racine County': 82164,\n",
       " 'Waupaca County': 25396,\n",
       " 'Lincoln County': 16784,\n",
       " 'Washburn County': 12979,\n",
       " 'Door County': 23966,\n",
       " 'Waukesha County': 160864,\n",
       " 'Sheboygan County': 50766,\n",
       " 'La Crosse County': 48402,\n",
       " 'Langlade County': 12360,\n",
       " 'Marathon County': 57734,\n",
       " 'Jefferson County': 35147,\n",
       " 'Price County': 11120,\n",
       " 'Vilas County': 25116,\n",
       " 'Columbia County': 26137,\n",
       " 'Ozaukee County': 36267,\n",
       " 'Fond du Lac County': 43910,\n",
       " 'Crawford County': 8802,\n",
       " 'Lafayette County': 7230,\n",
       " 'Green County': 15856,\n",
       " 'Marinette County': 30379,\n",
       " 'Vernon County': 13720,\n",
       " 'Douglas County': 22825,\n",
       " 'Rock County': 68422,\n",
       " 'Iowa County': 10719,\n",
       " 'Dane County': 216022,\n",
       " 'Bayfield County': 12999,\n",
       " 'Polk County': 24248,\n",
       " 'Trempealeau County': 12619,\n",
       " 'Brown County': 104371,\n",
       " 'Washington County': 54695,\n",
       " 'Chippewa County': 27185,\n",
       " 'Oconto County': 23537,\n",
       " 'Richland County': 8868,\n",
       " 'Portage County': 30054,\n",
       " 'Sawyer County': 15975,\n",
       " 'Menominee County': 2253,\n",
       " 'Barron County': 23614,\n",
       " 'Shawano County': 20720,\n",
       " 'Winnebago County': 73329,\n",
       " 'Rusk County': 8883,\n",
       " 'Manitowoc County': 37189,\n",
       " 'Dunn County': 17964,\n",
       " 'Monroe County': 19204,\n",
       " 'Waushara County': 14843,\n",
       " 'Forest County': 8970,\n",
       " 'Green Lake County': 10616,\n",
       " 'Juneau County': 14669,\n",
       " 'St. Croix County': 33983,\n",
       " 'Buffalo County': 6664,\n",
       " 'Kenosha County': 69288,\n",
       " 'Jackson County': 9727,\n",
       " 'Burnett County': 15278}"
      ]
     },
     "execution_count": 9,
     "metadata": {},
     "output_type": "execute_result"
    }
   ],
   "source": [
    "#Q7\n",
    "train.drop(columns = ['POP100', 'geometry', \n",
    "                      'AREALAND']).set_index('NAME').to_dict()['HU100']"
   ]
  },
  {
   "cell_type": "markdown",
   "id": "f849f0ac",
   "metadata": {},
   "source": [
    "## Q8: How much variance in the POP100 can a LinearRegression model explain based only on HU100?"
   ]
  },
  {
   "cell_type": "code",
   "execution_count": 10,
   "id": "cc9f9213",
   "metadata": {},
   "outputs": [
    {
     "data": {
      "text/plain": [
       "0.9652534544116037"
      ]
     },
     "execution_count": 10,
     "metadata": {},
     "output_type": "execute_result"
    }
   ],
   "source": [
    "#Q8\n",
    "scores = cross_val_score(model, train[[\"HU100\"]], train[\"POP100\"])\n",
    "scores.mean()"
   ]
  },
  {
   "cell_type": "markdown",
   "id": "86625d09",
   "metadata": {},
   "source": [
    "## Q9: What is the standard deviation of the cross validation scores from Q8?"
   ]
  },
  {
   "cell_type": "code",
   "execution_count": 11,
   "id": "39a9010d",
   "metadata": {},
   "outputs": [
    {
     "data": {
      "text/plain": [
       "0.03704265206670459"
      ]
     },
     "execution_count": 11,
     "metadata": {},
     "output_type": "execute_result"
    }
   ],
   "source": [
    "#Q9\n",
    "scores.std()"
   ]
  },
  {
   "cell_type": "markdown",
   "id": "213f0e4e",
   "metadata": {},
   "source": [
    "## Q10: What is the formula relating POP100 and HU100?"
   ]
  },
  {
   "cell_type": "code",
   "execution_count": 12,
   "id": "421979eb",
   "metadata": {},
   "outputs": [
    {
     "data": {
      "text/plain": [
       "'POP100 = 2.39*HU100 + -7910.46'"
      ]
     },
     "execution_count": 12,
     "metadata": {},
     "output_type": "execute_result"
    }
   ],
   "source": [
    "#Q10\n",
    "model.fit(train[['HU100']], train['POP100'])\n",
    "coef = round(model.coef_[0], 2)\n",
    "intercept = round(model.intercept_, 2)\n",
    "f\"POP100 = {coef}*HU100 + {intercept}\""
   ]
  },
  {
   "cell_type": "markdown",
   "id": "4cb472d4",
   "metadata": {},
   "source": [
    "## Q11: What is the relationship between HU100 and POP100, visually?\n"
   ]
  },
  {
   "cell_type": "code",
   "execution_count": 13,
   "id": "df37188e",
   "metadata": {
    "scrolled": true
   },
   "outputs": [
    {
     "data": {
      "image/png": "[encoded data removed]",
      "text/plain": [
       "<Figure size 432x288 with 1 Axes>"
      ]
     },
     "metadata": {
      "needs_background": "light"
     },
     "output_type": "display_data"
    }
   ],
   "source": [
    "#Q11\n",
    "dane_pop = df.drop(columns = [\"geometry\", \"AREALAND\", \n",
    "                   \"HU100\"]).set_index('NAME').to_dict()[\"POP100\"]['Dane County']\n",
    "\n",
    "ax = df.plot.scatter(x='HU100', y='POP100', label = 'Actual')\n",
    "ax.axline((0, intercept), slope = coef, color = 'r', label = 'Predicted')\n",
    "ax.text(y=dane_pop, x = 225000, s=\"Dane\", verticalalignment = \"center\")\n",
    "ax.legend(frameon=True)\n",
    "None"
   ]
  },
  {
   "cell_type": "markdown",
   "id": "a4b65d63",
   "metadata": {},
   "source": [
    "# Part 3: Land Use Features\n",
    "## Q12: How many numbers in matrix A are between 2 and 5 (inclusive)?"
   ]
  },
  {
   "cell_type": "code",
   "execution_count": 14,
   "id": "26287acc",
   "metadata": {},
   "outputs": [
    {
     "data": {
      "text/plain": [
       "12"
      ]
     },
     "execution_count": 14,
     "metadata": {},
     "output_type": "execute_result"
    }
   ],
   "source": [
    "#Q12\n",
    "A = np.array([\n",
    "    [0,0,5,8,4],\n",
    "    [1,2,4,0,3],\n",
    "    [2,4,0,9,2],\n",
    "    [3,5,2,1,1],\n",
    "    [0,5,0,1,0]\n",
    "])\n",
    "\n",
    "g2 = A >= 2\n",
    "l5 = A <= 5\n",
    "\n",
    "np.logical_and(g2, l5).astype(int).sum()"
   ]
  },
  {
   "cell_type": "markdown",
   "id": "d579f1bd",
   "metadata": {},
   "source": [
    "## Q13: How does Milwaukee County look?\n"
   ]
  },
  {
   "cell_type": "code",
   "execution_count": 15,
   "id": "8911956d",
   "metadata": {},
   "outputs": [],
   "source": [
    "c = np.zeros((256,3))\n",
    "c[0] = [0.00000000000, 0.00000000000, 0.00000000000]\n",
    "c[11] = [0.27843137255, 0.41960784314, 0.62745098039]\n",
    "c[12] = [0.81960784314, 0.86666666667, 0.97647058824]\n",
    "c[21] = [0.86666666667, 0.78823529412, 0.78823529412]\n",
    "c[22] = [0.84705882353, 0.57647058824, 0.50980392157]\n",
    "c[23] = [0.92941176471, 0.00000000000, 0.00000000000]\n",
    "c[24] = [0.66666666667, 0.00000000000, 0.00000000000]\n",
    "c[31] = [0.69803921569, 0.67843137255, 0.63921568628]\n",
    "c[41] = [0.40784313726, 0.66666666667, 0.38823529412]\n",
    "c[42] = [0.10980392157, 0.38823529412, 0.18823529412]\n",
    "c[43] = [0.70980392157, 0.78823529412, 0.55686274510]\n",
    "c[51] = [0.64705882353, 0.54901960784, 0.18823529412]\n",
    "c[52] = [0.80000000000, 0.72941176471, 0.48627450980]\n",
    "c[71] = [0.88627450980, 0.88627450980, 0.75686274510]\n",
    "c[72] = [0.78823529412, 0.78823529412, 0.46666666667]\n",
    "c[73] = [0.60000000000, 0.75686274510, 0.27843137255]\n",
    "c[74] = [0.46666666667, 0.67843137255, 0.57647058824]\n",
    "c[81] = [0.85882352941, 0.84705882353, 0.23921568628]\n",
    "c[82] = [0.66666666667, 0.43921568628, 0.15686274510]\n",
    "c[90] = [0.72941176471, 0.84705882353, 0.91764705882]\n",
    "c[95] = [0.43921568628, 0.63921568628, 0.72941176471]\n",
    "custom_cmap = ListedColormap(c)"
   ]
  },
  {
   "cell_type": "code",
   "execution_count": 16,
   "id": "1abed32a",
   "metadata": {},
   "outputs": [
    {
     "data": {
      "text/plain": [
       "<matplotlib.image.AxesImage at 0x7f83cb184b20>"
      ]
     },
     "execution_count": 16,
     "metadata": {},
     "output_type": "execute_result"
    },
    {
     "data": {
      "image/png": "[encoded data removed]",
      "text/plain": [
       "<Figure size 864x864 with 1 Axes>"
      ]
     },
     "metadata": {
      "needs_background": "light"
     },
     "output_type": "display_data"
    }
   ],
   "source": [
    "#Q13\n",
    "land = rasterio.open(\"zip://../p6/land.zip!wi.tif\")\n",
    "milwaukee = gpd.GeoDataFrame(df.set_index(\"NAME\")['geometry'].loc[[\"Milwaukee County\"]])\n",
    "\n",
    "matrix, _ = mask(land, milwaukee.to_crs(land.crs)[\"geometry\"], crop=True)\n",
    "matrix = matrix[0]\n",
    "\n",
    "fig, ax = plt.subplots(figsize=(12,12))\n",
    "ax.imshow(matrix, vmin=0, vmax=255, cmap = custom_cmap)"
   ]
  },
  {
   "cell_type": "markdown",
   "id": "016dd41f",
   "metadata": {},
   "source": [
    "## Q14: What portion of Milwaukee County is \"Open Water\"?"
   ]
  },
  {
   "cell_type": "code",
   "execution_count": 17,
   "id": "26d4e8a8",
   "metadata": {},
   "outputs": [],
   "source": [
    "land_use = {\"open_water\": 11,\n",
    "            \"ice_snow\": 12,\n",
    "            \"developed_open\": 21,\n",
    "            \"developed_low\": 22,\n",
    "            \"developed_med\": 23,\n",
    "            \"developed_high\": 24,\n",
    "            \"barren\": 31,\n",
    "            \"deciduous\": 41,\n",
    "            \"evergreen\": 42,\n",
    "            \"mixed_forest\": 43,\n",
    "            \"dwarf_scrub\": 51,\n",
    "            \"shrub_scrub\": 52,\n",
    "            \"grassland\": 71,\n",
    "            \"sedge\": 72,\n",
    "            \"lichens\": 73,\n",
    "            \"moss\": 74,\n",
    "            \"pasture\": 81,\n",
    "            \"crops\": 82,\n",
    "            \"woody_wetlands\": 90,\n",
    "            \"herbacious_wetlands\": 95}"
   ]
  },
  {
   "cell_type": "code",
   "execution_count": 18,
   "id": "d21598f3",
   "metadata": {},
   "outputs": [
    {
     "data": {
      "text/plain": [
       "0.7963037455950543"
      ]
     },
     "execution_count": 18,
     "metadata": {},
     "output_type": "execute_result"
    }
   ],
   "source": [
    "#Q14\n",
    "mil_total = (matrix != 0).astype(int).sum()\n",
    "mil_water = (matrix == land_use['open_water']).astype(int).sum()\n",
    "mil_water / mil_total"
   ]
  },
  {
   "cell_type": "markdown",
   "id": "03e636e0",
   "metadata": {},
   "source": [
    "## Q15: What is the Relationship Between POP100 and ________________?"
   ]
  },
  {
   "cell_type": "code",
   "execution_count": 19,
   "id": "e1aabe02",
   "metadata": {},
   "outputs": [],
   "source": [
    "def check_proportion(df, interest, col):\n",
    "    df = df\n",
    "    di = []\n",
    "    num_key = land_use[interest]\n",
    "    for county in df[col]:\n",
    "        geo_df = gpd.GeoDataFrame(df.set_index(\"NAME\")['geometry'].loc[[county]])\n",
    "        matrix, _ = mask(land, geo_df.to_crs(land.crs)[\"geometry\"], crop=True)\n",
    "        matrix = matrix[0]\n",
    "        check_area = (matrix == num_key).astype(int).sum()\n",
    "        total_area = (matrix != 0).astype(int).sum()\n",
    "        di.append(check_area / total_area)\n",
    "    return di"
   ]
  },
  {
   "cell_type": "code",
   "execution_count": 20,
   "id": "8cd5dc5c",
   "metadata": {},
   "outputs": [
    {
     "data": {
      "image/png": "[encoded data removed]",
      "text/plain": [
       "<Figure size 432x288 with 1 Axes>"
      ]
     },
     "metadata": {
      "needs_background": "light"
     },
     "output_type": "display_data"
    }
   ],
   "source": [
    "#Q15\n",
    "di = check_proportion(df, \"developed_high\", \"NAME\")\n",
    "df['prop'] = di\n",
    "ax = df.plot.scatter(x = \"prop\", y = \"POP100\")\n",
    "ax.set_ylabel(\"Population\")\n",
    "ax.set_xlabel(\"Highly Developed Cells in Country\")\n",
    "None"
   ]
  },
  {
   "cell_type": "code",
   "execution_count": 21,
   "id": "9c8dbf21",
   "metadata": {},
   "outputs": [],
   "source": [
    "tdf = gpd.read_file(\"tracts.geojson\")"
   ]
  },
  {
   "cell_type": "code",
   "execution_count": 22,
   "id": "3c9d3445",
   "metadata": {},
   "outputs": [],
   "source": [
    "def check2(interest):\n",
    "    num_key = land_use[interest]\n",
    "    percent_list = []\n",
    "    check_area_list = []\n",
    "    for geoid in tdf['GEOID']:\n",
    "        county = gpd.GeoDataFrame(tdf.set_index('GEOID')['geometry'].loc[[geoid]])\n",
    "        matrix, _ = mask(land, county.to_crs(land.crs)[\"geometry\"], crop=True)\n",
    "        matrix = matrix[0]\n",
    "        area_total = (matrix != 0).astype(int).sum()\n",
    "        check_area = (matrix == num_key).astype(int).sum()\n",
    "        check_area_list.append(check_area)\n",
    "        percent_list.append(check_area / area_total)\n",
    "    tdf[interest] = percent_list\n",
    "    tdf[interest + \"_total\"] = check_area_list    \n",
    "    "
   ]
  },
  {
   "cell_type": "code",
   "execution_count": 23,
   "id": "af497072",
   "metadata": {},
   "outputs": [],
   "source": [
    "check2(\"developed_med\")"
   ]
  },
  {
   "cell_type": "code",
   "execution_count": 24,
   "id": "2da01807",
   "metadata": {},
   "outputs": [],
   "source": [
    "train, test = train_test_split(tdf, random_state = 320, test_size = 0.25)"
   ]
  },
  {
   "cell_type": "code",
   "execution_count": 25,
   "id": "0a155bbd",
   "metadata": {},
   "outputs": [
    {
     "name": "stdout",
     "output_type": "stream",
     "text": [
      "mean:  0.03563542094528738\n",
      "std:  0.01856432296875382\n"
     ]
    }
   ],
   "source": [
    "m1 = LinearRegression()\n",
    "m1.fit(train[[\"developed_med\"]], train[\"POP100\"])\n",
    "scores1 = cross_val_score(m1, train[[\"developed_med\"]], train[\"POP100\"])\n",
    "print(\"mean: \", scores1.mean())\n",
    "print(\"std: \", scores1.std())"
   ]
  },
  {
   "cell_type": "code",
   "execution_count": 26,
   "id": "c6e6c568",
   "metadata": {},
   "outputs": [
    {
     "name": "stdout",
     "output_type": "stream",
     "text": [
      "mean:  0.41621273220980004\n",
      "std:  0.039940216602005855\n"
     ]
    }
   ],
   "source": [
    "m2 = Pipeline([\n",
    "    (\"poly\", PolynomialFeatures(degree=2, include_bias=False)),\n",
    "    (\"lr\", LinearRegression())\n",
    "])\n",
    "\n",
    "m2.fit(train[[\"developed_med_total\"]], train[\"POP100\"])\n",
    "scores2 = cross_val_score(m2, train[[\"developed_med_total\"]], train[\"POP100\"])\n",
    "print(\"mean: \", scores2.mean())\n",
    "print(\"std: \", scores2.std())"
   ]
  },
  {
   "cell_type": "markdown",
   "id": "a7464c29",
   "metadata": {},
   "source": [
    "## Q16: How do the models you selected compare under cross validation?"
   ]
  },
  {
   "cell_type": "code",
   "execution_count": 27,
   "id": "e47579ea",
   "metadata": {},
   "outputs": [
    {
     "name": "stderr",
     "output_type": "stream",
     "text": [
      "/home/paytonfife/.local/lib/python3.8/site-packages/numpy/core/_methods.py:44: RuntimeWarning: invalid value encountered in reduce\n",
      "  return umr_minimum(a, axis, None, out, keepdims, initial, where)\n",
      "/home/paytonfife/.local/lib/python3.8/site-packages/numpy/core/_methods.py:40: RuntimeWarning: invalid value encountered in reduce\n",
      "  return umr_maximum(a, axis, None, out, keepdims, initial, where)\n"
     ]
    },
    {
     "data": {
      "image/png": "[encoded data removed]",
      "text/plain": [
       "<Figure size 432x288 with 1 Axes>"
      ]
     },
     "metadata": {
      "needs_background": "light"
     },
     "output_type": "display_data"
    }
   ],
   "source": [
    "#Q16:\n",
    "avg = pd.Series({\"LR Model\": scores1.mean(), \"Pipeline + Total Model\": scores2.mean()})\n",
    "std = pd.Series({\"LR Model\": scores1.std(), \"Pipeline  + Total Model\": scores2.std()})\n",
    "ax = avg.plot.bar(yerr=std)\n",
    "ax.set_ylabel(\"R^2 Score\")\n",
    "None"
   ]
  },
  {
   "cell_type": "markdown",
   "id": "1a0376b6",
   "metadata": {},
   "source": [
    "## Q17: How does your recommended model score against the test dataset?"
   ]
  },
  {
   "cell_type": "code",
   "execution_count": 28,
   "id": "34a3bba9",
   "metadata": {},
   "outputs": [],
   "source": [
    "# m1 was my very first idea, trying to use a linear model on the % of area that is \"developed_med\"\n",
    "# m2 was my final, and most simple and effective model, using 2 degree PolynomialFeatures and the total area\n",
    "# covered by \"developed_med\". Clearly, m2 is much more accurate."
   ]
  },
  {
   "cell_type": "code",
   "execution_count": 29,
   "id": "29cc6e27",
   "metadata": {},
   "outputs": [
    {
     "data": {
      "text/plain": [
       "0.40029704465563754"
      ]
     },
     "execution_count": 29,
     "metadata": {},
     "output_type": "execute_result"
    }
   ],
   "source": [
    "#Q17:\n",
    "m2.score(test[[\"developed_med_total\"]], test[\"POP100\"])"
   ]
  }
 ],
 "metadata": {
  "kernelspec": {
   "display_name": "Python 3",
   "language": "python",
   "name": "python3"
  },
  "language_info": {
   "codemirror_mode": {
    "name": "ipython",
    "version": 3
   },
   "file_extension": ".py",
   "mimetype": "text/x-python",
   "name": "python",
   "nbconvert_exporter": "python",
   "pygments_lexer": "ipython3",
   "version": "3.8.8"
  }
 },
 "nbformat": 4,
 "nbformat_minor": 5
}
