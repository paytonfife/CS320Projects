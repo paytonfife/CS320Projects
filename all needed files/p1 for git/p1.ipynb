{
 "cells": [
  {
   "cell_type": "code",
   "execution_count": 1,
   "id": "a0d17232",
   "metadata": {},
   "outputs": [],
   "source": [
    "# project: p1\n",
    "# submitter: pjfife\n",
    "# partner: none\n",
    "# hours: 8"
   ]
  },
  {
   "cell_type": "code",
   "execution_count": 2,
   "id": "1b03e57a",
   "metadata": {},
   "outputs": [],
   "source": [
    "import copy\n",
    "from json import load\n",
    "import os\n",
    "import pandas as pd\n",
    "import csv\n",
    "import subprocess\n",
    "import numpy as np\n",
    "from time import time"
   ]
  },
  {
   "cell_type": "markdown",
   "id": "0290819c",
   "metadata": {},
   "source": [
    "## Review 220: Control Flow (Part 1)\n",
    "## Q1: what is the type of 7/2?"
   ]
  },
  {
   "cell_type": "code",
   "execution_count": 3,
   "id": "be8fefb6",
   "metadata": {},
   "outputs": [
    {
     "data": {
      "text/plain": [
       "float"
      ]
     },
     "execution_count": 3,
     "metadata": {},
     "output_type": "execute_result"
    }
   ],
   "source": [
    "#Q1\n",
    "type(7/2)"
   ]
  },
  {
   "cell_type": "markdown",
   "id": "50ced2e0",
   "metadata": {},
   "source": [
    "## Q2: what is error?"
   ]
  },
  {
   "cell_type": "code",
   "execution_count": 4,
   "id": "7c326e60",
   "metadata": {},
   "outputs": [
    {
     "data": {
      "text/plain": [
       "True"
      ]
     },
     "execution_count": 4,
     "metadata": {},
     "output_type": "execute_result"
    }
   ],
   "source": [
    "#Q2\n",
    "x = 4\n",
    "maximum = 10\n",
    "minimum = 5\n",
    "error = (x < 5) or (x > 10) # True if x is outside the minimum-to-maximum range\n",
    "error"
   ]
  },
  {
   "cell_type": "markdown",
   "id": "a7ac3275",
   "metadata": {},
   "source": [
    "## Q3: ignoring case, does word end with the suffix \"esque\"?"
   ]
  },
  {
   "cell_type": "code",
   "execution_count": 5,
   "id": "965608d7",
   "metadata": {},
   "outputs": [
    {
     "data": {
      "text/plain": [
       "True"
      ]
     },
     "execution_count": 5,
     "metadata": {},
     "output_type": "execute_result"
    }
   ],
   "source": [
    "#Q3\n",
    "word = \"KAFKAESQUE\"\n",
    "suffix_match = word.lower()[-5:] == \"esque\"\n",
    "suffix_match"
   ]
  },
  {
   "cell_type": "markdown",
   "id": "c4133d74",
   "metadata": {},
   "source": [
    "## Q4: what is add(3, 4)?"
   ]
  },
  {
   "cell_type": "code",
   "execution_count": 6,
   "id": "41570efc",
   "metadata": {},
   "outputs": [],
   "source": [
    "def add(x, y = 1):\n",
    "    return x + y"
   ]
  },
  {
   "cell_type": "code",
   "execution_count": 7,
   "id": "bd1ec4e9",
   "metadata": {},
   "outputs": [
    {
     "data": {
      "text/plain": [
       "7"
      ]
     },
     "execution_count": 7,
     "metadata": {},
     "output_type": "execute_result"
    }
   ],
   "source": [
    "#Q4\n",
    "add(3, 4)"
   ]
  },
  {
   "cell_type": "markdown",
   "id": "6bca7530",
   "metadata": {},
   "source": [
    "## Q5: what is add(9)?"
   ]
  },
  {
   "cell_type": "code",
   "execution_count": 8,
   "id": "faeef7e4",
   "metadata": {},
   "outputs": [
    {
     "data": {
      "text/plain": [
       "10"
      ]
     },
     "execution_count": 8,
     "metadata": {},
     "output_type": "execute_result"
    }
   ],
   "source": [
    "#Q5\n",
    "add(9)"
   ]
  },
  {
   "cell_type": "markdown",
   "id": "f37d0ed8",
   "metadata": {},
   "source": [
    "## Q6: what is status?"
   ]
  },
  {
   "cell_type": "code",
   "execution_count": 9,
   "id": "1a8d1ce9",
   "metadata": {},
   "outputs": [
    {
     "data": {
      "text/plain": [
       "'positive'"
      ]
     },
     "execution_count": 9,
     "metadata": {},
     "output_type": "execute_result"
    }
   ],
   "source": [
    "#Q6\n",
    "x = 4\n",
    "if x < 0:\n",
    "    status = \"negative\"\n",
    "elif x > 0:\n",
    "    status = \"positive\"\n",
    "else:\n",
    "    status = \"zero\"\n",
    "status"
   ]
  },
  {
   "cell_type": "markdown",
   "id": "65d2ae9b",
   "metadata": {},
   "source": [
    "## Q7: what is smart_count(nums)?"
   ]
  },
  {
   "cell_type": "code",
   "execution_count": 10,
   "id": "29d35c2a",
   "metadata": {},
   "outputs": [],
   "source": [
    "def smart_count(list):\n",
    "    total = 0\n",
    "    for num in list:\n",
    "        if num > 10:\n",
    "            continue\n",
    "        if num < 0:\n",
    "            break\n",
    "        total += num\n",
    "    return total"
   ]
  },
  {
   "cell_type": "code",
   "execution_count": 11,
   "id": "1b7ca450",
   "metadata": {},
   "outputs": [
    {
     "data": {
      "text/plain": [
       "14"
      ]
     },
     "execution_count": 11,
     "metadata": {},
     "output_type": "execute_result"
    }
   ],
   "source": [
    "#Q7\n",
    "nums = [3, 4, 1, 6]\n",
    "smart_count(nums)"
   ]
  },
  {
   "cell_type": "markdown",
   "id": "b3d4b9d7",
   "metadata": {},
   "source": [
    "## Q8: what is smart_count([2, 1, 11, 3, 15, -1, 8, 2])?"
   ]
  },
  {
   "cell_type": "code",
   "execution_count": 12,
   "id": "c81b5893",
   "metadata": {},
   "outputs": [
    {
     "data": {
      "text/plain": [
       "6"
      ]
     },
     "execution_count": 12,
     "metadata": {},
     "output_type": "execute_result"
    }
   ],
   "source": [
    "#Q8\n",
    "smart_count([2, 1, 11, 3, 15, -1, 8, 2])"
   ]
  },
  {
   "cell_type": "markdown",
   "id": "50c2a6b6",
   "metadata": {},
   "source": [
    "## Review 220: State (Part 2)"
   ]
  },
  {
   "cell_type": "code",
   "execution_count": 13,
   "id": "64668a7d",
   "metadata": {},
   "outputs": [],
   "source": [
    "header = [\"A\", \"B\", \"C\"]\n",
    "\n",
    "coord1 = {\"x\": 8, \"y\": 5}\n",
    "coord2 = {\"x\": 9, \"y\": 2}\n",
    "coord3 = {\"x\": 3, \"y\": 1}\n",
    "\n",
    "rows = [\n",
    "    [1, 6, coord1],\n",
    "    [3, 4, coord2],\n",
    "    [5, 2, coord3],\n",
    "]"
   ]
  },
  {
   "cell_type": "markdown",
   "id": "2ff7e116",
   "metadata": {},
   "source": [
    "## Q9: after inserting a \"z\" key in coord3 (with coord3[\"z\"] = 3.14), what is rows?"
   ]
  },
  {
   "cell_type": "code",
   "execution_count": 14,
   "id": "1ce1a9b7",
   "metadata": {},
   "outputs": [
    {
     "data": {
      "text/plain": [
       "[[1, 6, {'x': 8, 'y': 5}],\n",
       " [3, 4, {'x': 9, 'y': 2}],\n",
       " [5, 2, {'x': 3, 'y': 1, 'z': 3.14}]]"
      ]
     },
     "execution_count": 14,
     "metadata": {},
     "output_type": "execute_result"
    }
   ],
   "source": [
    "#Q9\n",
    "coord3['z'] = 3.14\n",
    "rows"
   ]
  },
  {
   "cell_type": "markdown",
   "id": "19d230e8",
   "metadata": {},
   "source": [
    "## Q10: what is the value associated with the \"x\" key of the dict in the last position of the first list?"
   ]
  },
  {
   "cell_type": "code",
   "execution_count": 15,
   "id": "8af978ad",
   "metadata": {},
   "outputs": [
    {
     "data": {
      "text/plain": [
       "8"
      ]
     },
     "execution_count": 15,
     "metadata": {},
     "output_type": "execute_result"
    }
   ],
   "source": [
    "#Q10\n",
    "rows[0][-1]['x']"
   ]
  },
  {
   "cell_type": "markdown",
   "id": "170796cf",
   "metadata": {},
   "source": [
    "## Q11: what is rows after running the following?"
   ]
  },
  {
   "cell_type": "code",
   "execution_count": 16,
   "id": "ad3256e2",
   "metadata": {},
   "outputs": [
    {
     "data": {
      "text/plain": [
       "[[1, 6, {'x': 8, 'y': 5}],\n",
       " [3, 9999, {'x': 9, 'y': 2}],\n",
       " [5, 2, {'x': 3, 'y': 1, 'z': 3.14}]]"
      ]
     },
     "execution_count": 16,
     "metadata": {},
     "output_type": "execute_result"
    }
   ],
   "source": [
    "#Q11\n",
    "v2 = copy.copy(rows)\n",
    "v2[0] = 8888    # first change\n",
    "v2[1][1] = 9999 # second change\n",
    "rows"
   ]
  },
  {
   "cell_type": "markdown",
   "id": "10e1d840",
   "metadata": {},
   "source": [
    "## Q12: if we imagine the list of lists structure referenced by rows as a table, with column names in header, what is the sum of values in the \"B\" column?"
   ]
  },
  {
   "cell_type": "code",
   "execution_count": 17,
   "id": "cdfd3fdf",
   "metadata": {},
   "outputs": [
    {
     "data": {
      "text/plain": [
       "10007"
      ]
     },
     "execution_count": 17,
     "metadata": {},
     "output_type": "execute_result"
    }
   ],
   "source": [
    "#Q12\n",
    "total = 0\n",
    "for row in rows:\n",
    "    num = row[header.index('B')]\n",
    "    total += num\n",
    "total"
   ]
  },
  {
   "cell_type": "markdown",
   "id": "f61aec1f",
   "metadata": {},
   "source": [
    "## Q13: what is rows after we sort it in-place by the \"B\" column, ascending?"
   ]
  },
  {
   "cell_type": "code",
   "execution_count": 18,
   "id": "c8bea763",
   "metadata": {},
   "outputs": [
    {
     "data": {
      "text/plain": [
       "[[5, 2, {'x': 3, 'y': 1, 'z': 3.14}],\n",
       " [1, 6, {'x': 8, 'y': 5}],\n",
       " [3, 9999, {'x': 9, 'y': 2}]]"
      ]
     },
     "execution_count": 18,
     "metadata": {},
     "output_type": "execute_result"
    }
   ],
   "source": [
    "#Q13\n",
    "rows.sort(key = lambda row: row[header.index('B')])\n",
    "rows"
   ]
  },
  {
   "cell_type": "markdown",
   "id": "7ae2c443",
   "metadata": {},
   "source": [
    "## Q14: say you're going on vacation to Europe with 400 US dollars; how many Euros can you get at the current exchange rate?"
   ]
  },
  {
   "cell_type": "code",
   "execution_count": 19,
   "id": "e070fcf1",
   "metadata": {},
   "outputs": [],
   "source": [
    "f = open(\"usd.json\")\n",
    "data = load(f)\n",
    "f.close()"
   ]
  },
  {
   "cell_type": "code",
   "execution_count": 20,
   "id": "efb6435e",
   "metadata": {},
   "outputs": [
    {
     "data": {
      "text/plain": [
       "354.980889114556"
      ]
     },
     "execution_count": 20,
     "metadata": {},
     "output_type": "execute_result"
    }
   ],
   "source": [
    "#Q14\n",
    "data['eur']['rate'] * 400"
   ]
  },
  {
   "cell_type": "markdown",
   "id": "2da0679b",
   "metadata": {},
   "source": [
    "## Q15: what is divide(3, 2)?"
   ]
  },
  {
   "cell_type": "code",
   "execution_count": 21,
   "id": "5cb79601",
   "metadata": {},
   "outputs": [],
   "source": [
    "def divide(x, y):\n",
    "    try:\n",
    "        return x/y\n",
    "    except ZeroDivisionError:\n",
    "        return float('nan')"
   ]
  },
  {
   "cell_type": "code",
   "execution_count": 22,
   "id": "2b9b9127",
   "metadata": {},
   "outputs": [
    {
     "data": {
      "text/plain": [
       "1.5"
      ]
     },
     "execution_count": 22,
     "metadata": {},
     "output_type": "execute_result"
    }
   ],
   "source": [
    "#Q15\n",
    "divide(3, 2)"
   ]
  },
  {
   "cell_type": "markdown",
   "id": "6d0a2805",
   "metadata": {},
   "source": [
    "## Q15: what is divide(-3, 0)?"
   ]
  },
  {
   "cell_type": "code",
   "execution_count": 23,
   "id": "8995995e",
   "metadata": {},
   "outputs": [
    {
     "data": {
      "text/plain": [
       "nan"
      ]
     },
     "execution_count": 23,
     "metadata": {},
     "output_type": "execute_result"
    }
   ],
   "source": [
    "#Q16\n",
    "divide(3, 0)"
   ]
  },
  {
   "cell_type": "markdown",
   "id": "6b91b89c",
   "metadata": {},
   "source": [
    "## Review 220: Data Science (Part 3)"
   ]
  },
  {
   "cell_type": "code",
   "execution_count": 24,
   "id": "088a3b8a",
   "metadata": {},
   "outputs": [],
   "source": [
    "def process_csv(filename):\n",
    "    example_file = open(filename, encoding=\"utf-8\")\n",
    "    example_reader = csv.reader(example_file)\n",
    "    example_data = list(example_reader)\n",
    "    example_file.close()\n",
    "    return example_data"
   ]
  },
  {
   "cell_type": "code",
   "execution_count": 25,
   "id": "96dfeedf",
   "metadata": {},
   "outputs": [],
   "source": [
    "years = {}\n",
    "\n",
    "files = os.listdir('home-computers')\n",
    "\n",
    "for file in files:\n",
    "    year = int(file[7:11])\n",
    "    df = process_csv(os.path.join('home-computers', file))\n",
    "    df = pd.DataFrame(df[1:])\n",
    "    df.columns = df.iloc[0]\n",
    "    df.set_index('Geographic Area Name', inplace = True)\n",
    "    df = df[1:]\n",
    "    years[year] = df"
   ]
  },
  {
   "cell_type": "markdown",
   "id": "aea06774",
   "metadata": {},
   "source": [
    "## Q17: what are the keys in years?"
   ]
  },
  {
   "cell_type": "code",
   "execution_count": 26,
   "id": "3c223096",
   "metadata": {},
   "outputs": [
    {
     "data": {
      "text/plain": [
       "[2013, 2014, 2015, 2016, 2017, 2018]"
      ]
     },
     "execution_count": 26,
     "metadata": {},
     "output_type": "execute_result"
    }
   ],
   "source": [
    "#Q17\n",
    "years_list = list(years.keys())\n",
    "years_list.sort()\n",
    "years_list"
   ]
  },
  {
   "cell_type": "markdown",
   "id": "d47683c4",
   "metadata": {},
   "source": [
    "## Q18: how many households did Wisconsin have in 2018?"
   ]
  },
  {
   "cell_type": "code",
   "execution_count": 27,
   "id": "28e15574",
   "metadata": {},
   "outputs": [
    {
     "data": {
      "text/plain": [
       "2371960"
      ]
     },
     "execution_count": 27,
     "metadata": {},
     "output_type": "execute_result"
    }
   ],
   "source": [
    "#Q18\n",
    "df = years[2018]\n",
    "int(df.loc['Wisconsin', 'Estimate!!Total'])"
   ]
  },
  {
   "cell_type": "markdown",
   "id": "f7c88c62",
   "metadata": {},
   "source": [
    "## Q19: how many total households in the US are estimated to not have any computer at home? (2018)"
   ]
  },
  {
   "cell_type": "code",
   "execution_count": 28,
   "id": "3e0186c8",
   "metadata": {},
   "outputs": [
    {
     "data": {
      "text/plain": [
       "10285814"
      ]
     },
     "execution_count": 28,
     "metadata": {},
     "output_type": "execute_result"
    }
   ],
   "source": [
    "#Q19\n",
    "s1 = pd.to_numeric(df['Estimate!!Total!!No Computer'])\n",
    "s1.sum()"
   ]
  },
  {
   "cell_type": "markdown",
   "id": "4fea808e",
   "metadata": {},
   "source": [
    "## Q20: what is the biggest per-state margin of error for \"No Computer\", as a fraction of the total estimate? (2018)"
   ]
  },
  {
   "cell_type": "code",
   "execution_count": 29,
   "id": "9009a663",
   "metadata": {},
   "outputs": [
    {
     "data": {
      "text/plain": [
       "0.12375641594322287"
      ]
     },
     "execution_count": 29,
     "metadata": {},
     "output_type": "execute_result"
    }
   ],
   "source": [
    "#Q20\n",
    "s2 = pd.to_numeric(df['Margin of Error!!Total!!No Computer'])\n",
    "s3 = s2 / s1\n",
    "s3.max()"
   ]
  },
  {
   "cell_type": "markdown",
   "id": "097c3eed",
   "metadata": {},
   "source": [
    "## Q21: for Wisconsin and adjacent states, what percent of households are estimated to be without a computer? (2018)"
   ]
  },
  {
   "cell_type": "code",
   "execution_count": 30,
   "id": "54a9c6f1",
   "metadata": {},
   "outputs": [
    {
     "data": {
      "text/plain": [
       "{'Illinois': 8.524143737625552,\n",
       " 'Indiana': 9.463486214247707,\n",
       " 'Iowa': 9.468929459023103,\n",
       " 'Michigan': 8.936374942955922,\n",
       " 'Minnesota': 7.491847623005652,\n",
       " 'Wisconsin': 9.582497175331794}"
      ]
     },
     "execution_count": 30,
     "metadata": {},
     "output_type": "execute_result"
    }
   ],
   "source": [
    "#Q21\n",
    "states = ['Illinois', 'Indiana', 'Iowa', 'Michigan', 'Minnesota', 'Wisconsin']\n",
    "\n",
    "midwest = {}\n",
    "\n",
    "for state in states:\n",
    "    households = int(df.loc[state, 'Estimate!!Total'])\n",
    "    no_comp = int(df.loc[state, 'Estimate!!Total!!No Computer'])\n",
    "    percent = no_comp / households * 100\n",
    "    midwest[state] = percent\n",
    "\n",
    "midwest"
   ]
  },
  {
   "cell_type": "markdown",
   "id": "dcd3a90a",
   "metadata": {},
   "source": [
    "## Q22: same question, but answer with a bar plot."
   ]
  },
  {
   "cell_type": "code",
   "execution_count": 31,
   "id": "aeb3551b",
   "metadata": {},
   "outputs": [
    {
     "data": {
      "image/png": "[encoded data removed]",
      "text/plain": [
       "<Figure size 432x288 with 1 Axes>"
      ]
     },
     "metadata": {
      "needs_background": "light"
     },
     "output_type": "display_data"
    }
   ],
   "source": [
    "#Q22\n",
    "\n",
    "plot = pd.Series(midwest).plot.bar()\n",
    "plot.set_ylabel('% of Households w/o Computers')\n",
    "plot.set_xlabel('Geographic Area Name')\n",
    "None"
   ]
  },
  {
   "cell_type": "markdown",
   "id": "89d10378",
   "metadata": {},
   "source": [
    "## Q23: how as the number of WI households without computers changed over recent years?"
   ]
  },
  {
   "cell_type": "code",
   "execution_count": 32,
   "id": "35e5e43c",
   "metadata": {},
   "outputs": [
    {
     "data": {
      "image/png": "[encoded data removed]",
      "text/plain": [
       "<Figure size 432x288 with 1 Axes>"
      ]
     },
     "metadata": {
      "needs_background": "light"
     },
     "output_type": "display_data"
    }
   ],
   "source": [
    "#Q23\n",
    "\n",
    "dic = {}\n",
    "\n",
    "for year in years_list:\n",
    "    wocomp = int(years[year]['Estimate!!Total!!No Computer']['Wisconsin'])/ 1000\n",
    "    dic[year] = wocomp\n",
    "    \n",
    "plot = pd.Series(dic).plot.line()\n",
    "plot.set_ylabel('WI Household without Computers (thousands)')\n",
    "plot.set_xlabel('Year')\n",
    "None"
   ]
  },
  {
   "cell_type": "markdown",
   "id": "1020c93d",
   "metadata": {},
   "source": [
    "## Q24: what is the relationship between household with smartphones and those with tablets? (2018)"
   ]
  },
  {
   "cell_type": "code",
   "execution_count": 33,
   "id": "51692030",
   "metadata": {},
   "outputs": [
    {
     "data": {
      "image/png": "[encoded data removed]",
      "text/plain": [
       "<Figure size 432x288 with 1 Axes>"
      ]
     },
     "metadata": {
      "needs_background": "light"
     },
     "output_type": "display_data"
    }
   ],
   "source": [
    "#Q24\n",
    "\n",
    "smarts = df[\"Estimate!!Total!!Has one or more types of computing devices!!Smartphone\"]\n",
    "tabs = df[\"Estimate!!Total!!Has one or more types of computing devices!!Tablet or other portable wireless computer\"]\n",
    "\n",
    "df = df.loc[:, [\"Estimate!!Total!!Has one or more types of computing devices!!Smartphone\", \"Estimate!!Total!!Has one or more types of computing devices!!Tablet or other portable wireless computer\"]]\n",
    "\n",
    "df[\"Estimate!!Total!!Has one or more types of computing devices!!Smartphone\"] = pd.to_numeric(df[\"Estimate!!Total!!Has one or more types of computing devices!!Smartphone\"]) / 1000000\n",
    "df[\"Estimate!!Total!!Has one or more types of computing devices!!Tablet or other portable wireless computer\"] = pd.to_numeric(df[\"Estimate!!Total!!Has one or more types of computing devices!!Tablet or other portable wireless computer\"]) / 1000000\n",
    "\n",
    "plot = df.plot.scatter(x = \"Estimate!!Total!!Has one or more types of computing devices!!Smartphone\", \n",
    "       y = \"Estimate!!Total!!Has one or more types of computing devices!!Tablet or other portable wireless computer\")\n",
    "\n",
    "plot.set_ylabel('Tablets (millions)')\n",
    "plot.set_xlabel('Smartphones (millions)')\n",
    "None"
   ]
  },
  {
   "cell_type": "markdown",
   "id": "e53a1882",
   "metadata": {},
   "source": [
    "## Q29: what is the output of pip3 instal? (yes, the mispelling was intentional)"
   ]
  },
  {
   "cell_type": "code",
   "execution_count": 34,
   "id": "82de324a",
   "metadata": {},
   "outputs": [
    {
     "data": {
      "text/plain": [
       "'ERROR: unknown command \"instal\" - maybe you meant \"install\"\\n'"
      ]
     },
     "execution_count": 34,
     "metadata": {},
     "output_type": "execute_result"
    }
   ],
   "source": [
    "#Q29\n",
    "\n",
    "try:\n",
    "    subprocess.check_output(['pip3', 'instal'], encoding = 'utf-8', stderr = subprocess.PIPE)\n",
    "except subprocess.CalledProcessError as e:\n",
    "    output = e.stderr\n",
    "output"
   ]
  },
  {
   "cell_type": "markdown",
   "id": "598d14d0",
   "metadata": {},
   "source": [
    "## Q30: what is faster for looping over a DataFrame, iterrows or itertuples?"
   ]
  },
  {
   "cell_type": "code",
   "execution_count": 35,
   "id": "41c4a235",
   "metadata": {},
   "outputs": [],
   "source": [
    "def rand_df(rows):\n",
    "    return pd.DataFrame(np.random.randint(10, size=(rows, 4)),\n",
    "                        columns=[\"A\", \"B\", \"C\", \"D\"],\n",
    "                        index=[f\"r{i}\" for i in range(1, rows+1)])"
   ]
  },
  {
   "cell_type": "code",
   "execution_count": 36,
   "id": "a92afa97",
   "metadata": {},
   "outputs": [
    {
     "data": {
      "image/png": "[encoded data removed]",
      "text/plain": [
       "<Figure size 432x288 with 1 Axes>"
      ]
     },
     "metadata": {
      "needs_background": "light"
     },
     "output_type": "display_data"
    }
   ],
   "source": [
    "#Q30\n",
    "rows = range(1000, 5001, 500)\n",
    "\n",
    "times_df = pd.DataFrame(dtype = float)\n",
    "\n",
    "for row in rows:\n",
    "    df = rand_df(row)\n",
    "    t0 = time()\n",
    "    for roww in df.iterrows():\n",
    "        pass\n",
    "    t1 = time()\n",
    "    diff = (t1-t0) * 1000\n",
    "    times_df.at[row, 'iterrows'] = diff\n",
    "    t2 = time()\n",
    "    for rroww in df.itertuples():\n",
    "        pass\n",
    "    t3 = time()\n",
    "    difff = (t3 - t2) * 1000\n",
    "    times_df.at[row, 'itertuples'] = difff\n",
    "    \n",
    "df = times_df.plot.line()\n",
    "df.set_ylabel('Milliseconds')\n",
    "df.set_xlabel('Rows')\n",
    "None"
   ]
  },
  {
   "cell_type": "markdown",
   "id": "1e81d104",
   "metadata": {},
   "source": [
    "## Q31: what is faster, loc, or at?"
   ]
  },
  {
   "cell_type": "code",
   "execution_count": 37,
   "id": "623e6782",
   "metadata": {},
   "outputs": [
    {
     "data": {
      "image/png": "[encoded data removed]",
      "text/plain": [
       "<Figure size 432x288 with 1 Axes>"
      ]
     },
     "metadata": {
      "needs_background": "light"
     },
     "output_type": "display_data"
    }
   ],
   "source": [
    "#Q31\n",
    "times2_df = pd.DataFrame(dtype = float)\n",
    "\n",
    "for row in rows:\n",
    "    df = rand_df(row)\n",
    "    t0 = time()\n",
    "    for roww in rows:\n",
    "        total = 0\n",
    "        for idx in df.index:\n",
    "            for col in df.columns:\n",
    "                total += df.loc[idx, col]\n",
    "    t1= time()\n",
    "    dif = (t1 - t0) * 1000\n",
    "    times2_df.at[row, 'loc'] = dif\n",
    "    t2 = time()\n",
    "    for rowww in rows:\n",
    "        total = 0\n",
    "        for idx in df.index:\n",
    "            for col in df.columns:\n",
    "                total += df.at[idx, col]\n",
    "    t3 = time()\n",
    "    diff = (t3 - t2) * 1000\n",
    "    times2_df.at[row, 'at'] = diff\n",
    "    \n",
    "df2 = times2_df.plot.line()\n",
    "df2.set_ylabel('Milliseconds')\n",
    "df2.set_xlabel('Rows')\n",
    "None"
   ]
  },
  {
   "cell_type": "markdown",
   "id": "97dacf9a",
   "metadata": {},
   "source": [
    "## Q32: what is faster, a loop or .apply?"
   ]
  },
  {
   "cell_type": "code",
   "execution_count": 38,
   "id": "e0f02f73",
   "metadata": {},
   "outputs": [
    {
     "data": {
      "image/png": "[encoded data removed]",
      "text/plain": [
       "<Figure size 432x288 with 1 Axes>"
      ]
     },
     "metadata": {
      "needs_background": "light"
     },
     "output_type": "display_data"
    }
   ],
   "source": [
    "#Q32\n",
    "\n",
    "def laugh(x):\n",
    "    return \"ha\" * x\n",
    "\n",
    "more_rows = range(1000, 20001, 1000)\n",
    "\n",
    "times3_df = pd.DataFrame(dtype = float)\n",
    "\n",
    "for row in more_rows:\n",
    "    df = rand_df(row)\n",
    "    t0 = time()\n",
    "    result = df[\"A\"].apply(laugh).tolist()\n",
    "    t1 = time()\n",
    "    dif = (t1 - t0) * 1000\n",
    "    times3_df.at[row, '.apply'] = dif\n",
    "    t2 = time()\n",
    "    result = []\n",
    "    for val in df[\"A\"]:\n",
    "        result.append(laugh(val))\n",
    "    t3 = time()\n",
    "    diff = (t3 - t2) * 1000\n",
    "    times3_df.at[row, 'loop'] = diff\n",
    "    \n",
    "df3 = times3_df.plot.line()\n",
    "df3.set_ylabel('Milliseconds')\n",
    "df3.set_xlabel('Rows')\n",
    "None"
   ]
  }
 ],
 "metadata": {
  "kernelspec": {
   "display_name": "Python 3",
   "language": "python",
   "name": "python3"
  },
  "language_info": {
   "codemirror_mode": {
    "name": "ipython",
    "version": 3
   },
   "file_extension": ".py",
   "mimetype": "text/x-python",
   "name": "python",
   "nbconvert_exporter": "python",
   "pygments_lexer": "ipython3",
   "version": "3.8.8"
  }
 },
 "nbformat": 4,
 "nbformat_minor": 5
}
